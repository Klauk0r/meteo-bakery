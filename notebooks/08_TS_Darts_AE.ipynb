{
 "cells": [
  {
   "cell_type": "markdown",
   "metadata": {},
   "source": [
    "## Meteo Bakery - Darts \n",
    "This notebook serves as an initial draft for getting acquainted with Darts"
   ]
  },
  {
   "cell_type": "markdown",
   "metadata": {},
   "source": [
    "### import libraries"
   ]
  },
  {
   "cell_type": "code",
   "execution_count": null,
   "metadata": {},
   "outputs": [],
   "source": [
    "import numpy as np\n",
    "import pandas as pd\n",
    "import matplotlib.pyplot as plt\n",
    "import seaborn as sns\n",
    "\n",
    "from darts import TimeSeries\n",
    "from darts.utils import missing_values\n",
    "from darts.models import RegressionModel\n",
    "from darts.metrics import rmse, mape\n",
    "from sklearn.linear_model import LinearRegression"
   ]
  },
  {
   "cell_type": "markdown",
   "metadata": {},
   "source": [
    "### load data"
   ]
  },
  {
   "cell_type": "code",
   "execution_count": null,
   "metadata": {},
   "outputs": [],
   "source": [
    "df_stacked = pd.read_csv('../data/data_combined.csv')\n",
    "df_stacked['date'] = pd.to_datetime(df_stacked['date'])"
   ]
  },
  {
   "cell_type": "code",
   "execution_count": null,
   "metadata": {},
   "outputs": [],
   "source": [
    "# select only data before Covid19\n",
    "df_stacked = df_stacked[df_stacked.year < 2020]\n",
    "df_stacked.head()"
   ]
  },
  {
   "cell_type": "markdown",
   "metadata": {},
   "source": [
    "### generate a multiple time series object\n",
    "Using darts.TimeSeries class, we generate a multiple time series object from a stacked / grouped time series df, essentially representing a list of all individual time series."
   ]
  },
  {
   "cell_type": "code",
   "execution_count": null,
   "metadata": {},
   "outputs": [],
   "source": [
    "# convert df into multiple time series object\n",
    "series_multi = TimeSeries.from_group_dataframe(df=df_stacked, group_cols=['branch', 'product'], \n",
    "                                        value_cols=['turnover'], time_col='date', freq='d')"
   ]
  },
  {
   "cell_type": "code",
   "execution_count": null,
   "metadata": {},
   "outputs": [],
   "source": [
    "# fill NaNs in each series by interpolation from darts imputation functionalities using list comprehension\n",
    "series_multi_nan = [missing_values.fill_missing_values(series_multi[i], fill='auto') for i in range(len(series_multi))]"
   ]
  },
  {
   "cell_type": "code",
   "execution_count": null,
   "metadata": {},
   "outputs": [],
   "source": [
    "# grouping IDs can be assessed through static_covariates attribute\n",
    "branch = series_multi_nan[0].static_covariates\n",
    "print(branch.iloc[:, 0][0])\n",
    "print(branch.iloc[:, 1][0])"
   ]
  },
  {
   "cell_type": "markdown",
   "metadata": {},
   "source": [
    "### access grouping IDs for each time series using static_covariates attribute"
   ]
  },
  {
   "cell_type": "code",
   "execution_count": null,
   "metadata": {},
   "outputs": [],
   "source": [
    "# print number of series in multiple series object\n",
    "print(f\"\\n{len(series_multi)} series were extracted from the input DataFrame\\n\")\n",
    "\n",
    "# iterate over each time series, print static_covariates (i.e. group IDs) and plot individual time series\n",
    "for i, ts in enumerate(series_multi_nan):\n",
    "    print('\\n', ts.static_covariates)\n",
    "    ts['turnover'].plot(label=f'{ts.static_covariates.iloc[:, 0][0]} | {ts.static_covariates.iloc[:, 1][0]}')"
   ]
  },
  {
   "cell_type": "markdown",
   "metadata": {},
   "source": [
    "### Train-Validation split"
   ]
  },
  {
   "cell_type": "code",
   "execution_count": null,
   "metadata": {},
   "outputs": [],
   "source": [
    "# train-validation split by slicing each series within list using list comprehension\n",
    "train = [series_multi_nan[i][:-364] for i in range(len(series_multi_nan))] # extract all time points except for last year\n",
    "val = [series_multi_nan[i][-364:-357] for i in range(len(series_multi_nan))] # extract the next 7 days from end of training set"
   ]
  },
  {
   "cell_type": "markdown",
   "metadata": {},
   "source": [
    "### fit a linear regression model w/o covariates and predict\n",
    "We first fit a linear regression model to the whole training data, using lags of -7 days and -364 days, consistent with peaks in the partial autocorrelation plot."
   ]
  },
  {
   "cell_type": "code",
   "execution_count": null,
   "metadata": {},
   "outputs": [],
   "source": [
    "# fit a regression model to series in the list and predict\n",
    "model = RegressionModel(lags=[-7, -364],\n",
    "                    model=LinearRegression())\n",
    "\n",
    "model.fit(train)\n",
    "\n",
    "y_pred = model.predict(n=7, series=train)"
   ]
  },
  {
   "cell_type": "markdown",
   "metadata": {},
   "source": [
    "### fit a linear regression model w/ covariates and predict"
   ]
  },
  {
   "cell_type": "code",
   "execution_count": null,
   "metadata": {},
   "outputs": [],
   "source": [
    "# generate a multiple covariates time series object\n",
    "covariates_multi = TimeSeries.from_group_dataframe(df=df_stacked, group_cols=['branch', 'product'], \n",
    "                                        value_cols=['month', 'day_of_week', 'school_holiday', 'public_holiday',\n",
    "                                        'temp_mean', 'clouds_mean', 'wind_speed_mean', 'rain_1h_mean', 'snow_1h_mean'], \n",
    "                                        time_col='date', freq='d')"
   ]
  },
  {
   "cell_type": "code",
   "execution_count": null,
   "metadata": {},
   "outputs": [],
   "source": [
    "# fill in missing values using list comprehension\n",
    "covariates_multi_nan = [missing_values.fill_missing_values(covariates_multi[i], fill='auto') for i in range(len(covariates_multi))]"
   ]
  },
  {
   "cell_type": "code",
   "execution_count": null,
   "metadata": {},
   "outputs": [],
   "source": [
    "# fit a regression model to series in the list including future covariates and predict\n",
    "model_cov = RegressionModel(lags=[-7, -364], \n",
    "                    model=LinearRegression(), lags_future_covariates=[0]) # future covariates without lag\n",
    "\n",
    "model_cov.fit(train, future_covariates=covariates_multi)\n",
    "\n",
    "y_pred_cov = model_cov.predict(n=7, series=train, future_covariates=covariates_multi)"
   ]
  },
  {
   "cell_type": "markdown",
   "metadata": {},
   "source": [
    "### plot actual sales vs. predicted sales from models w/ and w/o covariates for each time series"
   ]
  },
  {
   "cell_type": "code",
   "execution_count": null,
   "metadata": {},
   "outputs": [],
   "source": [
    "# plot predicted vs. actual values for each time series object\n",
    "for i in range(len(y_pred_cov)):\n",
    "    y_pred[i].plot(label='pred')\n",
    "    y_pred_cov[i].plot(label='pred_covariates')\n",
    "    val[i].plot(label='actual')\n",
    "    plt.title(f'{val[i].static_covariates.iloc[:, 0][0]} | {val[i].static_covariates.iloc[:, 1][0]}')\n",
    "    plt.show()"
   ]
  },
  {
   "cell_type": "markdown",
   "metadata": {},
   "source": [
    "### use historical forecasts to compare models w/ and w/o covariates\n",
    "In order to assess changes in prediction accuracy following inclusion of covariates, we will design a utility function that iterates over a multiple time series object and for each time series performs a historical forecast for a model w/o covariates and w/ covariates. Here, we will specifically implement future covariates, such as months, day_of_week, holidays and weather forecasts.\n",
    "\n",
    "The forecasting horizon will be set to 7 days by default. Similarly, the stride will be set to 7 days by default, thus the training set for historical forecasts will always increase by 7 days.\n",
    "\n",
    "For comparison, we will compute both RMSE and MAPE from those forecasts."
   ]
  },
  {
   "cell_type": "code",
   "execution_count": null,
   "metadata": {},
   "outputs": [],
   "source": [
    "# define utility function for comparing historical forecasts on multiple time series between models w/ and w/o covariates\n",
    "def validate_historically(model, model_cov, multiple_series, future_covariates=None, forecast_horizon=7, stride=7):\n",
    "\n",
    "    # backtest the model on the last 50% of the series\n",
    "    # iterate over every series in multiple time series object\n",
    "    for i, series in enumerate(multiple_series):\n",
    "        # perform historical forecasts on model w/o covariates and save result\n",
    "        backtest_wo = model.historical_forecasts(series=series, \n",
    "                                          past_covariates=None,\n",
    "                                          future_covariates=None,\n",
    "                                          start=0.5, \n",
    "                                          stride=stride,\n",
    "                                          retrain=False,\n",
    "                                          verbose=True, \n",
    "                                          forecast_horizon=forecast_horizon)\n",
    "        # perform historical forecasts on model w/ covariates and save result\n",
    "        backtest_cov = model_cov.historical_forecasts(series=series, \n",
    "                                          past_covariates=None,\n",
    "                                          future_covariates=future_covariates[i],\n",
    "                                          start=0.5, \n",
    "                                          stride=stride,\n",
    "                                          retrain=False,\n",
    "                                          verbose=True, \n",
    "                                          forecast_horizon=forecast_horizon)\n",
    "\n",
    "    \n",
    "        #plot actual series values\n",
    "        series.plot()\n",
    "        # plot predicted values from historical model forecasts w/o covariates on top\n",
    "        backtest_wo.plot(label='fh=7 - w/o covariates')\n",
    "        # plot predicted values from historical model forecasts w/o covariates on top\n",
    "        backtest_cov.plot(label='fh=7 - w/ covariates')\n",
    "        # give title based on respective time series group IDs\n",
    "        plt.title(f'{series.static_covariates.iloc[:, 0][0]} | {series.static_covariates.iloc[:, 1][0]}')\n",
    "        plt.show()\n",
    "\n",
    "        # calculate RMSE and MAPE for predictions w/ and w/o covariates\n",
    "        print(f'Backtest w/o covariates: RMSE = {rmse(series, backtest_wo).round(2)}, MAPE = {mape(series, backtest_wo).round(2)}')\n",
    "        print(f'Backtest w/ covariates: RMSE = {rmse(series, backtest_cov).round(2)}, MAPE = {mape(series, backtest_cov).round(2)}')\n"
   ]
  },
  {
   "cell_type": "code",
   "execution_count": null,
   "metadata": {},
   "outputs": [],
   "source": [
    "validate_historically(model, model_cov, train, future_covariates=covariates_multi_nan)"
   ]
  }
 ],
 "metadata": {
  "kernelspec": {
   "display_name": "Python 3.9.8 ('.venv': venv)",
   "language": "python",
   "name": "python3"
  },
  "language_info": {
   "codemirror_mode": {
    "name": "ipython",
    "version": 3
   },
   "file_extension": ".py",
   "mimetype": "text/x-python",
   "name": "python",
   "nbconvert_exporter": "python",
   "pygments_lexer": "ipython3",
   "version": "3.9.8"
  },
  "orig_nbformat": 4,
  "vscode": {
   "interpreter": {
    "hash": "5088fa60f7d34fb5f2ba3ff772c32280f8a6f8f3ea142d94c52ee17185bba4b2"
   }
  }
 },
 "nbformat": 4,
 "nbformat_minor": 2
}
