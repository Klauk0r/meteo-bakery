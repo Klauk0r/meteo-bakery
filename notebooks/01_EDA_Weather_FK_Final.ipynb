{
 "cells": [
  {
   "cell_type": "markdown",
   "metadata": {},
   "source": [
    "# EDA Weather Data"
   ]
  },
  {
   "cell_type": "markdown",
   "metadata": {},
   "source": [
    "## Setup and Packages"
   ]
  },
  {
   "cell_type": "code",
   "execution_count": null,
   "metadata": {},
   "outputs": [],
   "source": [
    "# Main data packages. \n",
    "import numpy as np\n",
    "import pandas as pd\n",
    "\n",
    "# Data Viz. \n",
    "import statsmodels.formula.api as smf\n",
    "from statsmodels.tsa.seasonal import seasonal_decompose\n",
    "from scipy.ndimage import gaussian_filter\n",
    "from calendar import monthrange\n",
    "from calendar import month_name\n",
    "\n",
    "import matplotlib.pyplot as plt\n",
    "import matplotlib.patches as patches\n",
    "import seaborn as sns\n",
    "sns.set_style(\n",
    "    style='darkgrid', \n",
    "    rc={'axes.facecolor': 'white', 'grid.color': '.8'}\n",
    ")\n",
    "NF_ORANGE = '#ff5a36'\n",
    "NF_BLUE = '#163251'\n",
    "cmaps_hex = ['#193251','#FF5A36','#696969', '#7589A2','#FF5A36', '#DB6668']\n",
    "sns.set_palette(palette=cmaps_hex)\n",
    "sns_c = sns.color_palette(palette=cmaps_hex)\n",
    "%matplotlib inline\n",
    "from pandas.plotting import register_matplotlib_converters\n",
    "register_matplotlib_converters()\n",
    "\n",
    "plt.rcParams['figure.figsize'] = [12, 6]\n",
    "plt.rcParams['figure.dpi'] = 100"
   ]
  },
  {
   "cell_type": "markdown",
   "metadata": {},
   "source": [
    "## Import Dataset and First Look"
   ]
  },
  {
   "cell_type": "code",
   "execution_count": null,
   "metadata": {},
   "outputs": [],
   "source": [
    "#import data\n",
    "df = pd.read_csv('../data/neueFische_Wetter.csv')"
   ]
  },
  {
   "cell_type": "code",
   "execution_count": null,
   "metadata": {},
   "outputs": [],
   "source": [
    "df.info()"
   ]
  },
  {
   "cell_type": "markdown",
   "metadata": {},
   "source": [
    "## Extreme Values and Distribution"
   ]
  },
  {
   "cell_type": "markdown",
   "metadata": {},
   "source": [
    "We can see several missings in visibility, wind_gust, rain_1h and snow_1h.\n",
    "\n",
    "For the precipitation features, we know these missings are equivalent to zero. wind_gust and visibility need further investigation - we will get to that later."
   ]
  },
  {
   "cell_type": "code",
   "execution_count": null,
   "metadata": {},
   "outputs": [],
   "source": [
    "# replace missings with zeroes for rain and snow\n",
    "df.rain_1h.fillna(0,inplace=True)\n",
    "df.snow_1h.fillna(0,inplace=True)\n",
    "\n",
    "#df.visibility.fillna(10000,inplace=True)\n",
    "\n",
    "#df.wind_gust.fillna(df.wind_speed,inplace=True)"
   ]
  },
  {
   "cell_type": "code",
   "execution_count": null,
   "metadata": {},
   "outputs": [],
   "source": [
    "sns.scatterplot(data=df, x='time', y=(df.visibility/100), x_bins=877)#, bins=240, hue=df.visibility.isna())\n",
    "sns.histplot(data=df, x='time', hue=df.visibility.isna(), bins=877, multiple='stack')"
   ]
  },
  {
   "cell_type": "code",
   "execution_count": null,
   "metadata": {},
   "outputs": [],
   "source": [
    "sns.scatterplot(data=df, x='time', y=((df.wind_gust/df.wind_gust.max())*100), x_bins=877)#, bins=240, hue=df.visibility.isna())\n",
    "sns.histplot(data=df, x='time', hue=df.wind_gust.isna(), bins=877, multiple='stack')"
   ]
  },
  {
   "cell_type": "markdown",
   "metadata": {},
   "source": [
    "Now let's see whether there are any extreme values in the data"
   ]
  },
  {
   "cell_type": "code",
   "execution_count": null,
   "metadata": {},
   "outputs": [],
   "source": [
    "df.describe().T"
   ]
  },
  {
   "cell_type": "code",
   "execution_count": null,
   "metadata": {},
   "outputs": [],
   "source": [
    "sns.set()\n",
    "fig, axes = plt.subplots(3,4)\n",
    "ax=int(0)\n",
    "ay=int(0)\n",
    "ay2=0\n",
    "for e in ['temp', 'feels_like', 'pressure', 'humidity', 'clouds',\n",
    "       'visibility', 'wind_speed', 'wind_deg', 'wind_gust', 'rain_1h',\n",
    "       'snow_1h']:  \n",
    "       sns.boxplot(data=df, y=e, ax=axes[ay,ax])\n",
    "       ax+=1\n",
    "       ay2+=1\n",
    "       ay=int(ay2%3)\n",
    "       ax=int(ax-ay/4)\n",
    "fig.tight_layout()\n",
    "axes[-1, -1].axis('off')\n",
    "plt.show();"
   ]
  },
  {
   "cell_type": "markdown",
   "metadata": {},
   "source": [
    "Most features have at least some extreme values. However, at first glance they don't look like they aren't genuine values: They are neither completely out of range nor not accompanied by other values, thus might represent unusual weather. We will keep these data points in for now, but keep them in mind for future model building."
   ]
  },
  {
   "cell_type": "markdown",
   "metadata": {},
   "source": [
    "Next, we should investigate whether the data is normally distributed. Since we can expect the distribution to be different by year, we should look at the data yearwise."
   ]
  },
  {
   "cell_type": "code",
   "execution_count": null,
   "metadata": {},
   "outputs": [],
   "source": [
    "#convert time to datetime and extract years, months, and so on.\n",
    "df.time = df.apply(lambda x: pd.to_datetime(x['time'],utc=True),axis=1)\n",
    "df = df.assign(\n",
    "    date = lambda x: x['time'].dt.date,\n",
    "    year = lambda x: x['time'].dt.year,\n",
    "    month = lambda x: x['time'].dt.month,\n",
    "    week = lambda x: x['time'].dt.isocalendar().week,\n",
    "    day = lambda x: x['time'].dt.day,\n",
    "    weekday = lambda x: x['time'].dt.weekday,\n",
    "    dayofyear = lambda x: x['time'].dt.dayofyear,\n",
    "    hour = lambda x: x['time'].dt.hour,\n",
    ")\n",
    "df.weekday.replace({0:'Mo',\n",
    "                    1:'Tu',\n",
    "                    2:'We',\n",
    "                    3:'Th',\n",
    "                    4:'Fr',\n",
    "                    5:'Sa',\n",
    "                    6:'Su'},inplace=True)"
   ]
  },
  {
   "cell_type": "code",
   "execution_count": null,
   "metadata": {},
   "outputs": [],
   "source": [
    "sns.set()\n",
    "fig, axes = plt.subplots(3,4)\n",
    "ax=int(0)\n",
    "ay=int(0)\n",
    "ay2=0\n",
    "for e in ['temp', 'feels_like', 'pressure', 'humidity', 'clouds',\n",
    "       'visibility', 'wind_speed', 'wind_deg', 'wind_gust', 'rain_1h',\n",
    "       'snow_1h']:  \n",
    "       sns.histplot(data=df, x=e, ax=axes[ay,ax], hue='year', legend=False, palette='Set2', element='poly')\n",
    "       ax+=1\n",
    "       ay2+=1\n",
    "       ay=int(ay2%3)\n",
    "       ax=int(ax-ay/4)\n",
    "fig.tight_layout()\n",
    "axes[-1, -1].axis('off')\n",
    "plt.show();"
   ]
  },
  {
   "cell_type": "code",
   "execution_count": null,
   "metadata": {},
   "outputs": [],
   "source": [
    "# for better visibility, here's the temperature plot separately for any year\n",
    "sns.histplot(data=df.loc[df['year']>2018], x='temp', hue='year', element='poly')"
   ]
  },
  {
   "cell_type": "markdown",
   "metadata": {},
   "source": [
    "We can see that most features are not normally distributed."
   ]
  },
  {
   "cell_type": "markdown",
   "metadata": {},
   "source": [
    "## Feature Engineering: Wind and Weather Codes"
   ]
  },
  {
   "cell_type": "markdown",
   "metadata": {},
   "source": [
    "First, let's take a look at where the wind was most often coming from."
   ]
  },
  {
   "cell_type": "code",
   "execution_count": null,
   "metadata": {},
   "outputs": [],
   "source": [
    "winddata = pd.DataFrame(df[['wind_speed','wind_deg']].value_counts().reset_index())"
   ]
  },
  {
   "cell_type": "code",
   "execution_count": null,
   "metadata": {},
   "outputs": [],
   "source": [
    "winddata.columns = ['wind_speed', 'wind_deg', 'frequency']"
   ]
  },
  {
   "cell_type": "code",
   "execution_count": null,
   "metadata": {},
   "outputs": [],
   "source": [
    "import plotly.express as px\n",
    "fig = px.bar_polar(winddata.query('frequency>60'), r='frequency', theta=\"wind_deg\",\n",
    "                   color=\"wind_speed\", template=\"plotly_dark\",\n",
    "                   color_discrete_sequence= px.colors.sequential.Plasma_r,\n",
    "                   log_r=True)\n",
    "fig.show()"
   ]
  },
  {
   "cell_type": "markdown",
   "metadata": {},
   "source": [
    "Most of the time, the location seems to have eastern to north-easterly winds or wind coming from the south-west."
   ]
  },
  {
   "cell_type": "markdown",
   "metadata": {},
   "source": [
    "However, the wind data is not in a sensible format for most analyses as it is measured in degrees, ranging from 0 (North) to 360 (also North). So 360 and 0 is the same, not the two extreme ends of a scale. We thus translate wind direction into x and y coordinates."
   ]
  },
  {
   "cell_type": "code",
   "execution_count": null,
   "metadata": {},
   "outputs": [],
   "source": [
    "# Turn wind data into x-y-coordinates\n",
    "df[\"wind_dir_x\"] = df.wind_deg.apply(lambda x: np.cos(np.array(x) * np.pi /180))\n",
    "df[\"wind_dir_y\"] = df.wind_deg.apply(lambda x: np.sin(np.array(x) * np.pi /180))"
   ]
  },
  {
   "cell_type": "markdown",
   "metadata": {},
   "source": [
    "We further now interpret the weather codes by linking them with metadata from a reference table."
   ]
  },
  {
   "cell_type": "code",
   "execution_count": null,
   "metadata": {},
   "outputs": [],
   "source": [
    "codes = pd.read_csv('../data/neueFische_Wettercodes.csv')\n",
    "codes.columns = ['weather_id', 'WeatherMain', 'WeatherDescription']\n",
    "df = pd.merge(df, codes, how='left',on='weather_id')"
   ]
  },
  {
   "cell_type": "markdown",
   "metadata": {},
   "source": [
    "# Time Series EDA"
   ]
  },
  {
   "cell_type": "markdown",
   "metadata": {},
   "source": [
    "To examine the distribution of weather data over time, we look at precipitation and temperature and compare them by years (from 2017 on, so we can actually see something on the graphs)."
   ]
  },
  {
   "cell_type": "code",
   "execution_count": null,
   "metadata": {},
   "outputs": [],
   "source": [
    "sns.lineplot(data=df.loc[df['year']>2016].groupby(['year','month']).agg('mean'), x='month', y='rain_1h', hue='year')"
   ]
  },
  {
   "cell_type": "markdown",
   "metadata": {},
   "source": [
    "It seems to rain pretty evenly during the year, with an extreme peak in may 2018."
   ]
  },
  {
   "cell_type": "code",
   "execution_count": null,
   "metadata": {},
   "outputs": [],
   "source": [
    "sns.lineplot(data=df.loc[df['year']>2016].groupby(['year','month']).agg('mean'), x='month', y='snow_1h',hue='year')"
   ]
  },
  {
   "cell_type": "markdown",
   "metadata": {},
   "source": [
    "Snow is, not surprisingly, sparse and falling in january 2019 and 2020 mostly."
   ]
  },
  {
   "cell_type": "code",
   "execution_count": null,
   "metadata": {},
   "outputs": [],
   "source": [
    "sns.lineplot(data=df.loc[df['year']>2016].groupby(['year','month']).agg('mean'), x='month', y='feels_like',hue='year')"
   ]
  },
  {
   "cell_type": "code",
   "execution_count": null,
   "metadata": {},
   "outputs": [],
   "source": [
    "# Polar plot for seasonality \n",
    "ax = plt.subplot(111, projection='polar')\n",
    "\n",
    "# Convert and plot data\n",
    "df \\\n",
    "    .assign(day_of_year_cyclic = lambda x: x['dayofyear'].transform(lambda x: 2*np.pi*x/365.25)) \\\n",
    "    .pipe((sns.lineplot, 'data'), \n",
    "        x='day_of_year_cyclic', \n",
    "        y='feels_like', \n",
    "        hue='month',\n",
    "        palette=sns.color_palette(\"husl\", 12),\n",
    "        ax=ax\n",
    "    )\n",
    "\n",
    "fancy_plot=True     #this is only to make the plot more beautiful. If you just want to see how the data looks without the adjustments to the plot set fancy_plot to False\n",
    "if(fancy_plot): \n",
    "    days_per_month=[0] + [monthrange(2021, i)[1] for i in range(1,12)]      #findout how many days each month has ()\n",
    "    month_start=np.cumsum(days_per_month) +1                                #add 1 to start at 0 instead of 0, take the cumsum to get ech months starting day\n",
    "    month_start_theta=[i *2 * np.pi / 365.25 for i in month_start]          #turn start day into an angle (in rad), use 365.25 as the average length of a year\n",
    "\n",
    "    month_label=[month_name[i] for i in range(1,13)]\n",
    "    month_label_long=[label+'\\n(Day ' +str(month_start[ind]) +')' for ind,label in enumerate(month_label)]\n",
    "\n",
    "    ax.set_title('Felt Temperature', va='bottom',pad=22);\n",
    "    ax.spines.clear()\n",
    "    \n",
    "    ax.set_xlabel('')\n",
    "    ax.set_xticks(month_start_theta)\n",
    "    ax.set_xticklabels(month_label_long)\n",
    "    \n",
    "    ax.set_ylabel('')    \n",
    "    ax.set_ylim(-5,28)\n",
    "    ax.set_yticks(yt:=[0,5,10,15,20])\n",
    "    ax.set_yticklabels([str(t)+'°C' for t in yt], rotation = 45)\n",
    "\n",
    "    #Arrows / Annotations\n",
    "    style = \"Simple, tail_width=0.5, head_width=4, head_length=8\"\n",
    "    kw = dict(arrowstyle=style, color=\"dimgrey\")\n",
    "    ax.set_rlabel_position(1) \n",
    "    ax.text(13*2*np.pi/360,24,\"Days\",size=14,color='dimgrey',rotation=-80,va='center')\n",
    "    ax.text(-3*2*np.pi/360,16,\"Temperature\",size=14,color='dimgrey',rotation=-0,va='center')\n",
    "    a1 = patches.FancyArrowPatch((1*np.pi/180, -5), (1*np.pi/180, 26), **kw)\n",
    "\n",
    "    a2 = patches.FancyArrowPatch((1*np.pi/180, 24), (25*np.pi/180, 24),\n",
    "                                connectionstyle=f\"arc3,rad={0.105}\", **kw)\n",
    "    \n",
    "    ax.add_patch(a1)\n",
    "    ax.add_patch(a2)\n",
    "\n",
    "\n",
    "    ax.set_rorigin(-5)\n",
    "    ax.xaxis.set_tick_params(which='major',pad=10)\n",
    "\n",
    "    ax.legend(labels=month_label,ncol=2,facecolor='white',edgecolor='white',bbox_to_anchor=(1.1, 1.1), loc=1)\n",
    "\n",
    "    ax.figure.set_figwidth(12)\n",
    "    ax.figure.set_figheight(12)\n",
    "\n",
    "\n",
    "ax.figure.savefig(\"../plots/Temp_polar.png\",dpi=300)"
   ]
  },
  {
   "cell_type": "markdown",
   "metadata": {},
   "source": [
    "In general, from June to September, we can expect temperatures to go past 20 degrees on average, while they regularly drop below zero in January and February."
   ]
  },
  {
   "cell_type": "code",
   "execution_count": null,
   "metadata": {},
   "outputs": [],
   "source": [
    "sns.pairplot(df[['temp', 'feels_like', 'pressure', 'humidity', 'clouds',\n",
    "       'visibility', 'wind_speed', 'wind_gust', 'rain_1h',\n",
    "       'snow_1h', 'month']])"
   ]
  },
  {
   "cell_type": "code",
   "execution_count": null,
   "metadata": {},
   "outputs": [],
   "source": [
    "params = ['temp', 'feels_like', 'pressure', 'humidity', 'clouds',\n",
    "       'visibility', 'wind_speed', 'wind_gust', 'rain_1h',\n",
    "       'snow_1h', 'wind_dir_x', 'wind_dir_y']"
   ]
  },
  {
   "cell_type": "code",
   "execution_count": null,
   "metadata": {},
   "outputs": [],
   "source": [
    "df.columns"
   ]
  },
  {
   "cell_type": "markdown",
   "metadata": {},
   "source": [
    "### Exploring Seasonality and Overall Trends"
   ]
  },
  {
   "cell_type": "markdown",
   "metadata": {},
   "source": [
    "First, let's get an idea of how the different features behave over the course of a year by smoothening the data at a monthly rolling average."
   ]
  },
  {
   "cell_type": "code",
   "execution_count": null,
   "metadata": {},
   "outputs": [],
   "source": [
    "# Plot different weather features over the course of time\n",
    "\n",
    "# Smooth and plot\n",
    "fig, ax = plt.subplots(len(params), 1, figsize=(12, 3*len(params)), constrained_layout=True, sharex=True)\n",
    "plt.suptitle('Weather Data - Moving Average Smoothing', y=1.02);\n",
    "\n",
    "smooth_df = df.groupby('date').agg('mean')\n",
    "\n",
    "for i, e in enumerate(params):\n",
    "    smooth_df[f'{e}_smooth_ma_30d'] = smooth_df[f'{e}'].rolling(window=30,center=True).mean() #compute the rolling mean\n",
    "    sns.lineplot(x='date', y=f'{e}', label=f'{e} (Signal)', data=smooth_df,  ax=ax[i])\n",
    "    sns.lineplot(x='date', y=f'{e}_smooth_ma_30d', label=f'{e} smoothed:\\n 30 days', data=smooth_df, color=NF_ORANGE, ax=ax[i])\n",
    "\n",
    "    ax[i].legend(title='', loc='center left', bbox_to_anchor=(1, 0.5))\n",
    "    ax[i].set(title='');\n",
    "\n",
    "    \n",
    "fig.savefig(\"../plots/Weather_MA_Smoothing.png\",dpi=300)"
   ]
  },
  {
   "cell_type": "markdown",
   "metadata": {},
   "source": [
    "Apart from the fact that we can clearly see that something is off with our wind speed and -gust data here (the data looks different from May 2021 on, and wind gusts further are very odd between spring 2015 and the end of 2019), there are some very clear sesasonal patterns in almost all features.\n",
    "\n",
    "We can decompose them in further plots."
   ]
  },
  {
   "cell_type": "markdown",
   "metadata": {},
   "source": [
    "We start with a yearly cycle:"
   ]
  },
  {
   "cell_type": "code",
   "execution_count": null,
   "metadata": {},
   "outputs": [],
   "source": [
    "elms=['temp',\n",
    " 'feels_like',\n",
    " 'pressure',\n",
    " 'humidity',\n",
    " 'clouds',\n",
    " #'visibility',\n",
    " 'wind_speed',\n",
    " #'wind_gust',\n",
    " #'vislies'\n",
    " ]\n",
    " \n",
    "for i, e in enumerate(elms):\n",
    "    seasonal_decompose(x=df.groupby('date').agg('mean')[f'{e}'], #we use the daily mean instead of the hourly values to keep the plots readable\n",
    "                        model='additive', \n",
    "                        two_sided=True,\n",
    "                        period=365\n",
    "                        ).plot()"
   ]
  },
  {
   "cell_type": "markdown",
   "metadata": {},
   "source": [
    "As expected, we can identify clear seasonal patterns for most features."
   ]
  },
  {
   "cell_type": "markdown",
   "metadata": {},
   "source": [
    "Then, we inspect daily cycles:"
   ]
  },
  {
   "cell_type": "code",
   "execution_count": null,
   "metadata": {},
   "outputs": [],
   "source": [
    "#daily cycle\n",
    "\n",
    "#since the graph otherwise gets unreadable, it's necessary to only use a subset of data, like one or two months.\n",
    "p_start='2016-07-01'\n",
    "p_end='2016-08-01'\n",
    "\n",
    "#to get a better estimate of the daily cycle, you can enter another timespan here (preferrably 6 months earlier or later) that will also be included in the analysis. \n",
    "# If you want to do this, set comparison = True\n",
    "comparison = False\n",
    "p_start2='2016-01-01'\n",
    "p_end2='2016-02-01'\n",
    "\n",
    "if not comparison:\n",
    "    p_start, p_end = p_start2, p_end2\n",
    "\n",
    "elms=['temp',\n",
    " 'feels_like',\n",
    " 'pressure',\n",
    " 'humidity',\n",
    " 'clouds',\n",
    " #'visibility',\n",
    " 'wind_speed',\n",
    " #'wind_gust',\n",
    " #'vislies'\n",
    " ]\n",
    "\n",
    "for i, e in enumerate(elms):\n",
    "    seasonal_decompose(x=df.loc[(df['time']>p_start)&(df['time']<p_end)|(df['time']>p_start2)&(df['time']<p_end2)].reset_index()[f'{e}'], \n",
    "                        model='additive', \n",
    "                        two_sided=True,\n",
    "                        period=24\n",
    "                        ).plot()"
   ]
  },
  {
   "cell_type": "markdown",
   "metadata": {},
   "source": [
    "Here we see that although we can discover seasonal patterns in almost all features, some of the residual plots still exhibit recurring patterns. Further analysis needs to clarify where they come from."
   ]
  }
 ],
 "metadata": {
  "kernelspec": {
   "display_name": "Python 3.9.8 ('.venv': venv)",
   "language": "python",
   "name": "python3"
  },
  "language_info": {
   "codemirror_mode": {
    "name": "ipython",
    "version": 3
   },
   "file_extension": ".py",
   "mimetype": "text/x-python",
   "name": "python",
   "nbconvert_exporter": "python",
   "pygments_lexer": "ipython3",
   "version": "3.9.8"
  },
  "orig_nbformat": 4,
  "vscode": {
   "interpreter": {
    "hash": "51c3f431670d74800037e338e4014a8e6dc9aaef0885bb053b0cd3ee83d5b009"
   }
  }
 },
 "nbformat": 4,
 "nbformat_minor": 2
}
