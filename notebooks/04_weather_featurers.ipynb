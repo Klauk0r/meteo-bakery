{
 "cells": [
  {
   "cell_type": "markdown",
   "metadata": {},
   "source": [
    "## Meteo Bakery: Weather - Feature Engineering"
   ]
  },
  {
   "cell_type": "markdown",
   "metadata": {},
   "source": [
    "### import packages"
   ]
  },
  {
   "cell_type": "code",
   "execution_count": null,
   "metadata": {},
   "outputs": [],
   "source": [
    "# data packages\n",
    "import numpy as np\n",
    "import pandas as pd"
   ]
  },
  {
   "cell_type": "markdown",
   "metadata": {},
   "source": [
    "### load weather data"
   ]
  },
  {
   "cell_type": "code",
   "execution_count": null,
   "metadata": {},
   "outputs": [],
   "source": [
    "df = pd.read_csv('../data/neueFische_Wetter.csv')"
   ]
  },
  {
   "cell_type": "code",
   "execution_count": null,
   "metadata": {},
   "outputs": [],
   "source": [
    "df.info()"
   ]
  },
  {
   "cell_type": "markdown",
   "metadata": {},
   "source": [
    "### Feature Engineering"
   ]
  },
  {
   "cell_type": "markdown",
   "metadata": {},
   "source": [
    "#### extract x and y components from wind direction"
   ]
  },
  {
   "cell_type": "code",
   "execution_count": null,
   "metadata": {},
   "outputs": [],
   "source": [
    "# Turn wind data into sensible format\n",
    "df[\"wind_dir_x\"] = df.wind_deg.apply(lambda x: np.cos(np.array(x) * np.pi /180))\n",
    "df[\"wind_dir_y\"] = df.wind_deg.apply(lambda x: np.sin(np.array(x) * np.pi /180))"
   ]
  },
  {
   "cell_type": "code",
   "execution_count": null,
   "metadata": {},
   "outputs": [],
   "source": [
    "# replace missings w/ zero\n",
    "df.rain_1h.fillna(0,inplace=True)\n",
    "df.snow_1h.fillna(0,inplace=True)"
   ]
  },
  {
   "cell_type": "markdown",
   "metadata": {},
   "source": [
    "#### Input Weather Codes"
   ]
  },
  {
   "cell_type": "code",
   "execution_count": null,
   "metadata": {},
   "outputs": [],
   "source": [
    "codes = pd.read_csv('../data/neueFische_Wettercodes.csv')\n",
    "codes.columns = ['weather_id', 'WeatherMain', 'WeatherDescription']"
   ]
  },
  {
   "cell_type": "code",
   "execution_count": null,
   "metadata": {},
   "outputs": [],
   "source": [
    "df = pd.merge(df, codes,how='left',on='weather_id')"
   ]
  },
  {
   "cell_type": "markdown",
   "metadata": {},
   "source": [
    "#### Extract date and hour from datetime"
   ]
  },
  {
   "cell_type": "code",
   "execution_count": null,
   "metadata": {},
   "outputs": [],
   "source": [
    "df['time'] = pd.to_datetime(df['time'],utc=True)\n",
    "df['date'] = df.time.dt.date\n",
    "df['hour'] = df.time.dt.hour\n"
   ]
  },
  {
   "cell_type": "code",
   "execution_count": null,
   "metadata": {},
   "outputs": [],
   "source": [
    "df.head()"
   ]
  },
  {
   "cell_type": "markdown",
   "metadata": {},
   "source": [
    "#### Extract daily summary statistics"
   ]
  },
  {
   "cell_type": "code",
   "execution_count": null,
   "metadata": {},
   "outputs": [],
   "source": [
    "# utility function for extracting summary statistics from weather recordings\n",
    "def extract_daily_statistics(df,columns):\n",
    "    \"\"\"Extracts daily summary statistics of hourly weather data. \n",
    "        Returns a dataframe with mean, min, max and std values for weather recordings between 06:00 - 20:00 \n",
    "        and also returns mean values for three daily time period, i.e. 06:00-10:00, 11:00-15:00, and 16:00-20:00\n",
    "\n",
    "    Args:\n",
    "        df (pd.DataFrame): Dataframe containing ourly weather recordings\n",
    "        columns (list): A list of columns containing weather variable names contained in the input dataframe.\n",
    "\n",
    "    Returns:\n",
    "        pd.DataFrame: Dataframe containing daily summary statistics of weather data\n",
    "    \"\"\"\n",
    "\n",
    "    # intialize dataframe for summary statistics\n",
    "    summary_stats = pd.DataFrame({'date': df.date.unique()})\n",
    "    summary_stats.set_index('date', inplace=True)\n",
    "\n",
    "    # subselect dataframe for calculating whole-day summary statistics\n",
    "    df_day = df[df.hour.between(6, 20)]\n",
    "\n",
    "    # subselect dataframe for specified time frames\n",
    "    # 06:00-10:00\n",
    "    df_6_10 = df[df.hour.between(6, 10)]\n",
    "    # 11:00-15:00\n",
    "    df_11_15= df[df.hour.between(11, 15)]\n",
    "    # 16:00-20:00\n",
    "    df_16_20= df[df.hour.between(16, 20)]\n",
    "\n",
    "    for col in columns:\n",
    "        # calculate different summary statistics over complete daytime period\n",
    "        summary_stats[[col+'_mean', col+'_min', col+'_max', col+'_std']] = df_day.groupby('date')[col].agg(['mean', 'min', 'max', 'std'])\n",
    "        \n",
    "        # calculate mean values for specified time frames\n",
    "        # 06:00-10:00\n",
    "        df_6_10 = df[df.hour.between(6, 10)]\n",
    "        summary_stats[col+'_06-10'] = df_6_10.groupby('date')[col].agg(['mean'])\n",
    "        # 11:00-15:00\n",
    "        df_11_15= df[df.hour.between(11, 15)]\n",
    "        summary_stats[col+'_11_15'] = df_11_15.groupby('date')[col].agg(['mean'])\n",
    "        # 16:00-20:00\n",
    "        df_16_20= df[df.hour.between(16, 20)]\n",
    "        summary_stats[col+'_16_20'] = df_16_20.groupby('date')[col].agg(['mean'])\n",
    "    \n",
    "\n",
    "    return summary_stats"
   ]
  },
  {
   "cell_type": "code",
   "execution_count": null,
   "metadata": {},
   "outputs": [],
   "source": [
    "df.columns"
   ]
  },
  {
   "cell_type": "code",
   "execution_count": null,
   "metadata": {},
   "outputs": [],
   "source": [
    "summary_stats = extract_daily_statistics(df, ['temp', 'feels_like', 'pressure', 'humidity', 'clouds',\n",
    "       'wind_speed', 'wind_dir_x', 'wind_dir_y', 'rain_1h','snow_1h'])\n",
    "summary_stats.head()"
   ]
  },
  {
   "cell_type": "code",
   "execution_count": null,
   "metadata": {},
   "outputs": [],
   "source": [
    "summary_stats.info()"
   ]
  },
  {
   "cell_type": "code",
   "execution_count": null,
   "metadata": {},
   "outputs": [],
   "source": [
    "df.date.nunique()"
   ]
  },
  {
   "cell_type": "markdown",
   "metadata": {},
   "source": [
    "There are as many rows as unqiue days in the summary-statistics df. Thus, the feature engineering seems to be successful. "
   ]
  },
  {
   "cell_type": "markdown",
   "metadata": {},
   "source": [
    "### Feature engineering on string features"
   ]
  },
  {
   "cell_type": "code",
   "execution_count": null,
   "metadata": {},
   "outputs": [],
   "source": [
    "df.WeatherMain.unique()"
   ]
  },
  {
   "cell_type": "code",
   "execution_count": null,
   "metadata": {},
   "outputs": [],
   "source": [
    "df.WeatherMain.value_counts()"
   ]
  },
  {
   "cell_type": "markdown",
   "metadata": {},
   "source": [
    "- convert weather main into broader categories (e.g. rain, drizzle == rainy)\n",
    "- extract mode category as general weather condition for that day\n",
    "\n",
    "- __broader weather categories__\n",
    "    * 'Clouds': 'cloudy'\n",
    "    * 'Snow': 'snowy'\n",
    "    * 'Rain', 'Drizzle': 'rainy'\n",
    "    * 'Mist', 'Fog', 'Haze': 'foggy'\n",
    "    * 'Clear': 'clear'\n",
    "    * 'Dust', 'Smoke': 'dusty'\n",
    "    * 'Thunderstorm', 'Tornado': 'stormy'"
   ]
  },
  {
   "cell_type": "code",
   "execution_count": null,
   "metadata": {},
   "outputs": [],
   "source": [
    "# define dictionary to re-classify weather categories\n",
    "dict = {'Clouds': 'cloudy', 'Snow': 'snowy', 'Rain': 'rainy', 'Mist': 'foggy', 'Drizzle':'rainy', 'Fog':'foggy', 'Clear':'clear',\n",
    "       'Dust': 'dusty', 'Thunderstorm': 'stormy', 'Haze': 'foggy', 'Smoke': 'dusty', 'Tornado': 'stormy'}\n",
    " \n",
    " \n",
    "# Remap the values of the dataframe\n",
    "df['weather_cats'] = df.WeatherMain.map(dict)\n",
    "\n",
    "# count frequency per category\n",
    "df.weather_cats.value_counts()"
   ]
  },
  {
   "cell_type": "markdown",
   "metadata": {},
   "source": [
    "### extract mode as representative weather condition per time frame"
   ]
  },
  {
   "cell_type": "code",
   "execution_count": null,
   "metadata": {},
   "outputs": [],
   "source": [
    "summary_stats['condition_total'] = df[df.hour.between(6, 20)].groupby('date').weather_cats.agg(pd.Series.mode)\n",
    "summary_stats['condition_6-10'] = df[df.hour.between(6, 10)].groupby('date').weather_cats.agg(pd.Series.mode)\n",
    "summary_stats['condition_11-15'] = df[df.hour.between(11, 15)].groupby('date').weather_cats.agg(pd.Series.mode)\n",
    "summary_stats['condition_16-20'] = df[df.hour.between(16, 20)].groupby('date').weather_cats.agg(pd.Series.mode)"
   ]
  },
  {
   "cell_type": "markdown",
   "metadata": {},
   "source": [
    "### convert weather categories into one-hot encodings and compute relative frequency per day\n",
    "Additionally, each weather category is dummy-encoded as a separate feature. We will then sum up the hourly occurrences per time frame for each weather category and compute the relative frequency per time frame."
   ]
  },
  {
   "cell_type": "code",
   "execution_count": null,
   "metadata": {},
   "outputs": [],
   "source": [
    "weather_cats = pd.get_dummies(df.weather_cats)\n",
    "df[weather_cats.columns] = weather_cats\n",
    "df.head()"
   ]
  },
  {
   "cell_type": "code",
   "execution_count": null,
   "metadata": {},
   "outputs": [],
   "source": [
    "# use mean to calculate the relative frequency per time frame\n",
    "for cat in weather_cats:\n",
    "    summary_stats[cat+'_total'] = df[df.hour.between(6, 20)].groupby('date')[cat].agg(np.mean) \n",
    "    summary_stats[cat+'_06_10'] = df[df.hour.between(6, 10)].groupby('date')[cat].agg(np.mean)\n",
    "    summary_stats[cat+'_11_15'] = df[df.hour.between(11, 15)].groupby('date')[cat].agg(np.mean) \n",
    "    summary_stats[cat+'_16_20'] = df[df.hour.between(16, 20)].groupby('date')[cat].agg(np.mean) "
   ]
  },
  {
   "cell_type": "code",
   "execution_count": null,
   "metadata": {},
   "outputs": [],
   "source": [
    "summary_stats.head()"
   ]
  },
  {
   "cell_type": "code",
   "execution_count": null,
   "metadata": {},
   "outputs": [],
   "source": [
    "df.WeatherDescription.unique()"
   ]
  },
  {
   "cell_type": "code",
   "execution_count": null,
   "metadata": {},
   "outputs": [],
   "source": [
    "summary_stats.to_csv('../data/summary_stats.csv')"
   ]
  }
 ],
 "metadata": {
  "kernelspec": {
   "display_name": "Python 3.9.8 ('.venv': venv)",
   "language": "python",
   "name": "python3"
  },
  "language_info": {
   "codemirror_mode": {
    "name": "ipython",
    "version": 3
   },
   "file_extension": ".py",
   "mimetype": "text/x-python",
   "name": "python",
   "nbconvert_exporter": "python",
   "pygments_lexer": "ipython3",
   "version": "3.9.8"
  },
  "orig_nbformat": 4,
  "vscode": {
   "interpreter": {
    "hash": "5088fa60f7d34fb5f2ba3ff772c32280f8a6f8f3ea142d94c52ee17185bba4b2"
   }
  }
 },
 "nbformat": 4,
 "nbformat_minor": 2
}
