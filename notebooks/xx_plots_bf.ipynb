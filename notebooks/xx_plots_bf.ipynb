{
 "cells": [
  {
   "cell_type": "code",
   "execution_count": null,
   "metadata": {},
   "outputs": [],
   "source": [
    "import pandas as pd\n",
    "import numpy as np\n",
    "import matplotlib.pyplot as plt\n",
    "import seaborn as sns"
   ]
  },
  {
   "cell_type": "code",
   "execution_count": null,
   "metadata": {},
   "outputs": [],
   "source": [
    "df = pd.read_csv('../data/data_combined.csv')\n",
    "df[\"date\"] = pd.to_datetime(df[\"date\"])\n",
    "\n",
    "# list of colors\n",
    "colors = [\"#0C2E3A\", \"#CC542A\", \"#34831B\", \"#6A1B83\", \"#FFF6EC\"]\n"
   ]
  },
  {
   "cell_type": "code",
   "execution_count": null,
   "metadata": {},
   "outputs": [],
   "source": [
    "# plot all sales products by branch\n",
    "#scatter_col = dict(Metro=colors[0], Center=colors[1], Train_Station=colors[2])\n",
    "#plt.figure(figsize=(10, 7))\n",
    "#g=sns.lineplot(data = df, x = \"date\", y = \"turnover\", hue = \"branch\", palette = scatter_col)\n",
    "#g.legend(bbox_to_anchor=(1.05, 1), loc='center left', borderaxespad=0.)\n",
    "#g.set_ylabel(\"Turnover\")\n",
    "#g.set_xlabel(\"Year\");\n",
    "#plt.savefig(\"../plots/final_presentation/sales_overview.png\", bbox_inches='tight')"
   ]
  },
  {
   "cell_type": "code",
   "execution_count": null,
   "metadata": {},
   "outputs": [],
   "source": [
    "# Show seasonality using the mean of each product for each day of the year\n",
    "df[\"day_of_the_year\"] = pd.to_datetime(\"2000-\" + df[\"month\"].astype(\"str\") + \"-\" + df[\"day_of_month\"].astype(\"str\"))\n"
   ]
  },
  {
   "cell_type": "code",
   "execution_count": null,
   "metadata": {},
   "outputs": [],
   "source": [
    "\n",
    "data = df[(df[\"branch\"] == br) & (df[\"product\"] == pr)]\n",
    "daily_mean = pd.DataFrame(data.groupby(\"day_of_the_year\")[\"turnover\"].mean())"
   ]
  },
  {
   "cell_type": "code",
   "execution_count": null,
   "metadata": {},
   "outputs": [],
   "source": [
    "dates = list(pd.to_datetime([\"2000-01-01\", \"2000-03-01\", \"2000-05-01\", \"2000-07-01\", \"2000-09-01\", \"2000-11-01\", \"2001-01-01\"]))\n",
    "data = df[(df[\"branch\"] == \"Metro\") & (df[\"product\"] == \"Pastries\")]\n",
    "daily_mean1 = pd.DataFrame(data.groupby(\"day_of_the_year\")[\"turnover\"].mean())\n",
    "data = df[(df[\"branch\"] == \"Metro\") & (df[\"product\"] == \"Savoury Snack\")]\n",
    "daily_mean2 = pd.DataFrame(data.groupby(\"day_of_the_year\")[\"turnover\"].mean())\n",
    "\n",
    "y1 = daily_mean1[\"turnover\"]\n",
    "x1 = daily_mean1.index\n",
    "y2 = daily_mean2[\"turnover\"]\n",
    "x2 = daily_mean2.index\n",
    "\n",
    "fig, axs = plt.subplots(2)\n",
    "fig.suptitle('Seasonalities in the sales data')\n",
    "axs[0].plot(x1, y1, c=colors[0])\n",
    "axs[0].set_title('Metro Pastries')\n",
    "axs[1].plot(x2, y2, c=colors[0])\n",
    "axs[1].set_title('Metro Savoury Snack')\n",
    "axs[1].set_xticks(dates)\n",
    "axs[1].set_xticklabels([\"1\", \"3\", \"5\", \"7\", \"9\", \"11\", \"1\"])\n",
    "axs[1].set_xlabel(\"Month\")\n",
    "for ax in axs:\n",
    "    ax.label_outer()\n",
    "fig.savefig(\"../plots/final_presentation/sales_seasonalities.png\")\n"
   ]
  },
  {
   "cell_type": "code",
   "execution_count": null,
   "metadata": {},
   "outputs": [],
   "source": [
    "data1_0 = df[(df[\"branch\"] == \"Metro\") & (df[\"product\"] == \"Pastries\") & (df[\"weekend\"] == 0)]\n",
    "data1_1 = df[(df[\"branch\"] == \"Metro\") & (df[\"product\"] == \"Pastries\") & (df[\"weekend\"] == 1)]\n",
    "data2_0 = df[(df[\"branch\"] == \"Center\") & (df[\"product\"] == \"Pastries\") & (df[\"weekend\"] == 0)]\n",
    "data2_1 = df[(df[\"branch\"] == \"Center\") & (df[\"product\"] == \"Pastries\") & (df[\"weekend\"] == 1)]\n",
    "data3_0 = df[(df[\"branch\"] == \"Train_Station\") & (df[\"product\"] == \"Pastries\") & (df[\"weekend\"] == 0)]\n",
    "data3_1 = df[(df[\"branch\"] == \"Train_Station\") & (df[\"product\"] == \"Pastries\") & (df[\"weekend\"] == 1)]\n",
    "fig, axs = plt.subplots(3)\n",
    "fig.tight_layout(pad=1.5)\n",
    "#fig.suptitle('Weekendsales')\n",
    "axs[0].scatter(data1_0[\"date\"], data1_0[\"turnover\"], c=\"#0C2E3A\", s=.1, label=\"weekday\")\n",
    "axs[0].scatter(data1_1[\"date\"], data1_1[\"turnover\"], c=\"#CC542A\", s=.1, label=\"weekend\")\n",
    "axs[1].scatter(data2_0[\"date\"], data2_0[\"turnover\"], c=\"#0C2E3A\", s=.1, label=\"weekday\")\n",
    "axs[1].scatter(data2_1[\"date\"], data2_1[\"turnover\"], c=\"#CC542A\", s=.1, label=\"weekend\")\n",
    "axs[2].scatter(data3_0[\"date\"], data3_0[\"turnover\"], c=\"#0C2E3A\", s=.1, label=\"weekday\")\n",
    "axs[2].scatter(data3_1[\"date\"], data3_1[\"turnover\"], c=\"#CC542A\", s=.1, label=\"weekend\")\n",
    "axs[1].legend(loc='center left', bbox_to_anchor=(1, 0.5), markerscale = 10)\n",
    "axs[2].set_xlabel(\"Year\")\n",
    "axs[1].set_ylabel(\"Turnover\")\n",
    "axs[0].set_title(\"Metro Pastries\")\n",
    "axs[1].set_title(\"Center Pastries\")\n",
    "axs[2].set_title(\"Train Station Pastries\")\n",
    "for ax in axs:\n",
    "    ax.label_outer()\n",
    "fig.savefig(\"../plots/final_presentation/sales_weekend.png\")"
   ]
  },
  {
   "cell_type": "code",
   "execution_count": null,
   "metadata": {},
   "outputs": [],
   "source": [
    "df[\"product\"].unique()"
   ]
  },
  {
   "cell_type": "code",
   "execution_count": null,
   "metadata": {},
   "outputs": [],
   "source": [
    "colors"
   ]
  },
  {
   "cell_type": "code",
   "execution_count": null,
   "metadata": {},
   "outputs": [],
   "source": [
    "plt.figure(figsize=(10, 7))\n",
    "branches = [\"Metro\", \"Train_Station\", \"Center\"]\n",
    "products = ['Brown Bread', 'Wheat Rolls', 'Cakes', 'Pastries', 'Savoury Snack']\n",
    "fig, axs = plt.subplots(3)\n",
    "fig.tight_layout(pad=1.5)\n",
    "#fig.suptitle('Sales per branch')\n",
    "for br in range(3):\n",
    "    for pr in range(5):\n",
    "        tmp_df = df[(df[\"product\"] == products[pr]) & (df[\"branch\"] == branches[br])]\n",
    "        axs[br].bar(tmp_df[\"product\"], tmp_df[\"turnover\"], color=colors[pr])#, s=.1, label=\"weekday\")\n",
    "\n",
    "axs[1].set_ylabel(\"Turnover\")\n",
    "axs[0].set_title(\"Metro\")\n",
    "axs[1].set_title(\"Center\")\n",
    "axs[2].set_title(\"Train Station\")\n",
    "axs[2].set_xticklabels(products)\n",
    "for ax in axs:\n",
    "    ax.label_outer()\n",
    "fig.savefig(\"../plots/final_presentation/sales_per_branch.png\")\n"
   ]
  },
  {
   "cell_type": "code",
   "execution_count": null,
   "metadata": {},
   "outputs": [],
   "source": [
    "axs[0].scatter(data1_1[\"date\"], data1_1[\"turnover\"], c=\"#CC542A\", s=.1, label=\"weekend\")\n",
    "axs[1].scatter(data2_0[\"date\"], data2_0[\"turnover\"], c=\"#0C2E3A\", s=.1, label=\"weekday\")\n",
    "axs[1].scatter(data2_1[\"date\"], data2_1[\"turnover\"], c=\"#CC542A\", s=.1, label=\"weekend\")\n",
    "axs[2].scatter(data3_0[\"date\"], data3_0[\"turnover\"], c=\"#0C2E3A\", s=.1, label=\"weekday\")\n",
    "axs[2].scatter(data3_1[\"date\"], data3_1[\"turnover\"], c=\"#CC542A\", s=.1, label=\"weekend\")\n",
    "axs[1].legend(loc='center left', bbox_to_anchor=(1, 0.5), markerscale = 10)\n",
    "axs[2].set_xlabel(\"Year\")\n",
    "axs[1].set_ylabel(\"Turnover\")\n",
    "axs[0].set_title(\"Metro Pastries\")\n",
    "axs[1].set_title(\"Center Pastries\")\n",
    "axs[2].set_title(\"Train Station Pastries\")\n",
    "for ax in axs:\n",
    "    ax.label_outer()\n",
    "fig.savefig(\"../plots/final_presentation/sales_weekend.png\")"
   ]
  }
 ],
 "metadata": {
  "kernelspec": {
   "display_name": "Python 3.9.8 ('.venv': venv)",
   "language": "python",
   "name": "python3"
  },
  "language_info": {
   "codemirror_mode": {
    "name": "ipython",
    "version": 3
   },
   "file_extension": ".py",
   "mimetype": "text/x-python",
   "name": "python",
   "nbconvert_exporter": "python",
   "pygments_lexer": "ipython3",
   "version": "3.9.8"
  },
  "orig_nbformat": 4,
  "vscode": {
   "interpreter": {
    "hash": "b74997555c8f91a3719447544a5e0eea52b5cd1d12edaef9a97be210534824f7"
   }
  }
 },
 "nbformat": 4,
 "nbformat_minor": 2
}
