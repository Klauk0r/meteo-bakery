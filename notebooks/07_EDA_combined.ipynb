{
 "cells": [
  {
   "cell_type": "markdown",
   "metadata": {},
   "source": [
    "## Meteo Bakery - EDA on the relationship between sales and weather data\n",
    "In this notebook, we will analyize the relationship between the residuals from our baseline model and different weather data statistics.\n"
   ]
  },
  {
   "cell_type": "markdown",
   "metadata": {},
   "source": [
    "### import libraries"
   ]
  },
  {
   "cell_type": "code",
   "execution_count": null,
   "metadata": {},
   "outputs": [],
   "source": [
    "import pandas as pd\n",
    "import numpy as np\n",
    "import matplotlib.pyplot as plt\n",
    "import seaborn as sns"
   ]
  },
  {
   "cell_type": "markdown",
   "metadata": {},
   "source": [
    "### load data"
   ]
  },
  {
   "cell_type": "code",
   "execution_count": null,
   "metadata": {},
   "outputs": [],
   "source": [
    "df = pd.read_csv('../data/data_combined.csv')\n",
    "\n",
    "# parse 'date' to datetime object\n",
    "df.date = pd.to_datetime(df.date)"
   ]
  },
  {
   "cell_type": "code",
   "execution_count": null,
   "metadata": {},
   "outputs": [],
   "source": [
    "df.head(10)"
   ]
  },
  {
   "cell_type": "markdown",
   "metadata": {},
   "source": [
    "### plot time course of overall sales per branch"
   ]
  },
  {
   "cell_type": "code",
   "execution_count": null,
   "metadata": {},
   "outputs": [],
   "source": [
    "# define utility function for plotting sales data\n",
    "def plot_sales(df, product_cat, year_range, title):\n",
    "    \"\"\"Plot sales data for bakery branches and over specified time frame in years. Data can be plotted for all or specified products\n",
    "\n",
    "    Args:\n",
    "        product (str): Product name\n",
    "        year_range (list): Start and end year of the plotting time frame\n",
    "        title (str): Plot title\n",
    "    \"\"\"\n",
    "    if product_cat=='All':\n",
    "        # average sales across products for each branch and date\n",
    "        mean_sales = df.groupby(['branch', 'date']).sum().reset_index()\n",
    "        \n",
    "        sns.lineplot(data=mean_sales[(mean_sales.date.dt.year.isin(range(year_range[0], year_range[1])))], \n",
    "                x='date', y='turnover', hue='branch', palette={'Metro': 'red', 'Center': 'blue', 'Train_Station': 'green'}, alpha=0.8)\n",
    "    else:\n",
    "        sns.lineplot(data=df[(df.product==product_cat) & (sales.date.dt.year.isin(range(year_range[0], year_range[1])))], \n",
    "                x='date', y='turnover', hue='branch', palette={'Metro': 'red', 'Center': 'blue', 'Train_Station': 'green'}, alpha=0.8)\n",
    "    \n",
    "    plt.ylabel('Turnover', fontsize=12)\n",
    "    plt.xlabel('Year', fontsize=12)\n",
    "    plt.xticks(rotation = 45)\n",
    "    plt.legend(loc='upper right', fontsize=10)\n",
    "    plt.title(title)"
   ]
  },
  {
   "cell_type": "code",
   "execution_count": null,
   "metadata": {},
   "outputs": [],
   "source": [
    "# plot for all sales products as a summary plot using original df\n",
    "plt.figure(figsize=(6, 4))\n",
    "plot_sales(df, 'All', [2012, 2022], 'Total Sales 2012-2021')"
   ]
  },
  {
   "cell_type": "code",
   "execution_count": null,
   "metadata": {},
   "outputs": [],
   "source": [
    "df.day_of_week.value_counts()"
   ]
  },
  {
   "cell_type": "code",
   "execution_count": null,
   "metadata": {},
   "outputs": [],
   "source": [
    "# count missing dates per year\n",
    "missings = df[df.isna().any(axis=1)]\n",
    "missings['year_temp'] = missings.date.dt.year\n",
    "missings.year_temp.value_counts() / 15"
   ]
  },
  {
   "cell_type": "markdown",
   "metadata": {},
   "source": [
    "### Shift time series to calculate residuals based on baseline model\n",
    "We will shift the original stacked time series by seven days and perform the analysis of residuals depending on weather type.\n",
    "\n",
    "Since the time series is nested by branch and product category, each date is represented 15 times."
   ]
  },
  {
   "cell_type": "code",
   "execution_count": null,
   "metadata": {},
   "outputs": [],
   "source": [
    "df.head(16)"
   ]
  },
  {
   "cell_type": "markdown",
   "metadata": {},
   "source": [
    "Each date is first repeated 15 time for each branch and product category before a new date is reached. Thus, in order to shift the sales data by seven days to be used as predictions, the time series needs to be shifted 7 * 15 days."
   ]
  },
  {
   "cell_type": "code",
   "execution_count": null,
   "metadata": {},
   "outputs": [],
   "source": [
    "# create a copy of the original full-length time series and attach a column of predicted values shifted by 7*15 days\n",
    "df_pred = df.copy()\n",
    "df_pred['pred'] = df.turnover.shift(7*15)\n",
    "df_pred['residual'] = df_pred['pred'] - df_pred['turnover']"
   ]
  },
  {
   "cell_type": "code",
   "execution_count": null,
   "metadata": {},
   "outputs": [],
   "source": [
    "# double-check if shifting was successful for selected dates.\n",
    "df_pred.loc[[0, 105, 210, 315, 420, 525], ['date', 'turnover', 'pred']]"
   ]
  },
  {
   "cell_type": "markdown",
   "metadata": {},
   "source": [
    "As can be seen, the shifting worked properly."
   ]
  },
  {
   "cell_type": "markdown",
   "metadata": {},
   "source": [
    "### Distribution of residuals depending on weather condition"
   ]
  },
  {
   "cell_type": "code",
   "execution_count": null,
   "metadata": {},
   "outputs": [],
   "source": [
    "df_pred.condition_total.value_counts()"
   ]
  },
  {
   "cell_type": "code",
   "execution_count": null,
   "metadata": {},
   "outputs": [],
   "source": [
    "sns.barplot(data = df_pred[df_pred.condition_total.isin(['cloudy', 'rainy', 'clear', 'foggy', 'snowy'])], \n",
    "            hue='condition_total', y='residual', x='branch');"
   ]
  },
  {
   "cell_type": "markdown",
   "metadata": {},
   "source": [
    "The re-analysis using the directly shifted stacked time series yields the same result as the restacked time series."
   ]
  },
  {
   "cell_type": "markdown",
   "metadata": {},
   "source": [
    "### Interaction between month and weather condition on residuals"
   ]
  },
  {
   "cell_type": "code",
   "execution_count": null,
   "metadata": {},
   "outputs": [],
   "source": [
    "for month in range(1, 13):\n",
    "    sns.barplot(data = df_pred[(df_pred['month'] == month) & (df_pred.condition_total.isin(['cloudy', 'rainy', 'clear', 'foggy', 'snowy']))], \n",
    "            hue='condition_total', y='residual', x='branch')\n",
    "    plt.title(f'Month {month}')\n",
    "    plt.show()"
   ]
  },
  {
   "cell_type": "markdown",
   "metadata": {},
   "source": [
    "### Distribution of residuals depending on weather condition for each product category"
   ]
  },
  {
   "cell_type": "code",
   "execution_count": null,
   "metadata": {},
   "outputs": [],
   "source": [
    "for prod in df_pred['product'].unique():\n",
    "    sns.barplot(data = df_pred[(df_pred['product'] == prod) & (df_pred.condition_total.isin(['cloudy', 'rainy', 'clear', 'foggy', 'snowy']))], \n",
    "            hue='condition_total', y='residual', x='branch')\n",
    "    plt.title(prod)\n",
    "    plt.show()\n",
    "    "
   ]
  },
  {
   "cell_type": "markdown",
   "metadata": {},
   "source": [
    "### Regression plots between residuals and weather statistics"
   ]
  },
  {
   "cell_type": "code",
   "execution_count": null,
   "metadata": {},
   "outputs": [],
   "source": [
    "df_pred.columns"
   ]
  },
  {
   "cell_type": "code",
   "execution_count": null,
   "metadata": {},
   "outputs": [],
   "source": [
    "for x in ['temp_mean', 'temp_min', 'temp_max', 'temp_std']:\n",
    "    sns.lmplot(data=df_pred[df_pred.year<2016], y='residual', x=x, col='product', hue='branch', facet_kws=({'sharey':False}))\n",
    "    plt.show()"
   ]
  },
  {
   "cell_type": "code",
   "execution_count": null,
   "metadata": {},
   "outputs": [],
   "source": [
    "for x in ['pressure_mean', 'pressure_min','pressure_max', 'pressure_std']:\n",
    "    sns.lmplot(data=df_pred[df_pred.year<2016], y='residual', x=x, col='product', hue='branch', facet_kws=({'sharey':False}))\n",
    "    plt.show()"
   ]
  },
  {
   "cell_type": "code",
   "execution_count": null,
   "metadata": {},
   "outputs": [],
   "source": [
    "for x in ['humidity_mean', 'humidity_min', 'humidity_max','humidity_std']:\n",
    "    sns.lmplot(data=df_pred[df_pred.year<2016], y='residual', x=x, col='product', hue='branch', facet_kws=({'sharey':False}))\n",
    "    plt.show()"
   ]
  },
  {
   "cell_type": "code",
   "execution_count": null,
   "metadata": {},
   "outputs": [],
   "source": [
    "for x in ['clouds_mean', 'clouds_min', 'clouds_max', 'clouds_std']:\n",
    "    sns.lmplot(data=df_pred[df_pred.year<2016], y='residual', x=x, col='product', hue='branch', facet_kws=({'sharey':False}))\n",
    "    plt.show()"
   ]
  },
  {
   "cell_type": "code",
   "execution_count": null,
   "metadata": {},
   "outputs": [],
   "source": [
    "for x in ['wind_speed_mean', 'wind_speed_min','wind_speed_max', 'wind_speed_std']:\n",
    "    sns.lmplot(data=df_pred[df_pred.year<2016], y='residual', x=x, col='product', hue='branch', facet_kws=({'sharey':False}))\n",
    "    plt.show()"
   ]
  },
  {
   "cell_type": "code",
   "execution_count": null,
   "metadata": {},
   "outputs": [],
   "source": [
    "for x in ['wind_dir_y_mean','wind_dir_y_min', 'wind_dir_y_max', 'wind_dir_y_std']:\n",
    "    sns.lmplot(data=df_pred[df_pred.year<2016], y='residual', x=x, col='product', hue='branch', facet_kws=({'sharey':False}))\n",
    "    plt.show()"
   ]
  },
  {
   "cell_type": "code",
   "execution_count": null,
   "metadata": {},
   "outputs": [],
   "source": [
    "for x in ['wind_dir_x_mean','wind_dir_x_min', 'wind_dir_x_max', 'wind_dir_x_std']:\n",
    "    sns.lmplot(data=df_pred[df_pred.year<2016], y='residual', x=x, col='product', hue='branch', facet_kws=({'sharey':False}))\n",
    "    plt.show()"
   ]
  },
  {
   "cell_type": "code",
   "execution_count": null,
   "metadata": {},
   "outputs": [],
   "source": [
    "for x in ['rain_1h_mean', 'rain_1h_min', 'rain_1h_max', 'rain_1h_std']:\n",
    "    sns.lmplot(data=df_pred[df_pred.year<2016], y='residual', x=x, col='product', hue='branch', facet_kws=({'sharey':False}))\n",
    "    plt.show()"
   ]
  }
 ],
 "metadata": {
  "kernelspec": {
   "display_name": "Python 3.9.8 ('.venv': venv)",
   "language": "python",
   "name": "python3"
  },
  "language_info": {
   "codemirror_mode": {
    "name": "ipython",
    "version": 3
   },
   "file_extension": ".py",
   "mimetype": "text/x-python",
   "name": "python",
   "nbconvert_exporter": "python",
   "pygments_lexer": "ipython3",
   "version": "3.9.8"
  },
  "orig_nbformat": 4,
  "vscode": {
   "interpreter": {
    "hash": "5088fa60f7d34fb5f2ba3ff772c32280f8a6f8f3ea142d94c52ee17185bba4b2"
   }
  }
 },
 "nbformat": 4,
 "nbformat_minor": 2
}
