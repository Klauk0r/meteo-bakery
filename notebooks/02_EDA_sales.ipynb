{
 "cells": [
  {
   "cell_type": "markdown",
   "metadata": {},
   "source": [
    "## Meteo Bakery: Exploratory Data Analysis - Sales\n",
    "\n",
    "This notebook serves to perform a basic exploratory data analysis on the sales data from the different bakery branches.\n",
    "There a three different bakery branches at different locations. Sales data has been recorded daily for five different bakery products from years 2012 to 2021."
   ]
  },
  {
   "cell_type": "markdown",
   "metadata": {},
   "source": [
    "### import libraries"
   ]
  },
  {
   "cell_type": "code",
   "execution_count": null,
   "metadata": {},
   "outputs": [],
   "source": [
    "import pandas as pd\n",
    "import numpy as np\n",
    "import matplotlib.pyplot as plt\n",
    "import seaborn as sns"
   ]
  },
  {
   "cell_type": "markdown",
   "metadata": {},
   "source": [
    "### load data"
   ]
  },
  {
   "cell_type": "code",
   "execution_count": null,
   "metadata": {},
   "outputs": [],
   "source": [
    "sales = pd.read_excel('../data/neueFische_Umsaetze_Baeckerei.xlsx')"
   ]
  },
  {
   "cell_type": "markdown",
   "metadata": {},
   "source": [
    "### EDA and Feature Engineering"
   ]
  },
  {
   "cell_type": "code",
   "execution_count": null,
   "metadata": {},
   "outputs": [],
   "source": [
    "# get basic information on datatypes and missings\n",
    "sales.info()"
   ]
  },
  {
   "cell_type": "code",
   "execution_count": null,
   "metadata": {},
   "outputs": [],
   "source": [
    "# There are three NaN values in the sales data; extract additional information\n",
    "sales[np.isnan(sales.SoldTurnver)]"
   ]
  },
  {
   "cell_type": "markdown",
   "metadata": {},
   "source": [
    "There are three missing values in the sales data ('SoldTurnver'). These represent a missing of a single product category ('Mischbrote') for all three different branches on 2021-10-16. Maybe, this product could not been produced on that day due to technical issues or other reasons."
   ]
  },
  {
   "cell_type": "markdown",
   "metadata": {},
   "source": [
    "#### add a column coding for the location of the different bakery branches"
   ]
  },
  {
   "cell_type": "code",
   "execution_count": null,
   "metadata": {},
   "outputs": [],
   "source": [
    "# generate location column based on branch\n",
    "# Branch 1: Metro\n",
    "# Branch 2: City Center\n",
    "# Branch 3: Train Station\n",
    "\n",
    "sales['Location'] = sales.Branch.apply(lambda x: 'Metro' if x==1 else 'Center' if x==2 else 'Train_Station')\n",
    "sales.head()"
   ]
  },
  {
   "cell_type": "markdown",
   "metadata": {},
   "source": [
    "#### extract additional time features from the Date column"
   ]
  },
  {
   "cell_type": "code",
   "execution_count": null,
   "metadata": {},
   "outputs": [],
   "source": [
    "# extract time features from Date column\n",
    "sales['year'] = sales.Date.dt.year\n",
    "sales['month'] = sales.Date.dt.month\n",
    "sales['week'] = sales.Date.dt.week\n",
    "sales['day_of_month'] = sales.Date.dt.day\n",
    "sales['day_of_week'] = sales.Date.dt.dayofweek\n",
    "\n",
    "sales.head()"
   ]
  },
  {
   "cell_type": "markdown",
   "metadata": {},
   "source": [
    "### Visualize data"
   ]
  },
  {
   "cell_type": "code",
   "execution_count": null,
   "metadata": {},
   "outputs": [],
   "source": [
    "# extract product categories to plot data separately for each product\n",
    "products = sales.PredictionGroupName.unique().tolist()\n",
    "\n",
    "# insert category 'all' for all products in case data should be visualized across all categories\n",
    "products.insert(0, 'All')\n",
    "products"
   ]
  },
  {
   "cell_type": "markdown",
   "metadata": {},
   "source": [
    "### Sales across time"
   ]
  },
  {
   "cell_type": "code",
   "execution_count": null,
   "metadata": {},
   "outputs": [],
   "source": [
    "# define utility function for plotting sales data\n",
    "def plot_sales(product, year_range, title):\n",
    "    \"\"\"Plot sales data for bakery branches and over specified time frame in years. Data can be plotted for all or specified products\n",
    "\n",
    "    Args:\n",
    "        product (str): Product name\n",
    "        year_range (list): Start and end year of the plotting time frame\n",
    "        title (str): Plot title\n",
    "    \"\"\"\n",
    "    if product=='All':\n",
    "        # average sales across products for each branch and date\n",
    "        mean_sales = sales.groupby(['Location', 'Date']).mean().reset_index()\n",
    "        \n",
    "        sns.lineplot(data=mean_sales[(mean_sales.Date.dt.year.isin(range(year_range[0], year_range[1])))], \n",
    "                x='Date', y='SoldTurnver', hue='Location', palette={'Metro': 'red', 'Center': 'blue', 'Train_Station': 'green'}, alpha=0.8)\n",
    "    else:\n",
    "        sns.lineplot(data=sales[(sales.PredictionGroupName==product) & (sales.Date.dt.year.isin(range(year_range[0], year_range[1])))], \n",
    "                x='Date', y='SoldTurnver', hue='Location', palette={'Metro': 'red', 'Center': 'blue', 'Train_Station': 'green'}, alpha=0.8)\n",
    "    \n",
    "    plt.ylabel('Turnover', fontsize=12)\n",
    "    plt.xlabel('Year', fontsize=12)\n",
    "    plt.xticks(rotation = 45)\n",
    "    plt.legend(loc='upper right', fontsize=10)\n",
    "    plt.title(title)"
   ]
  },
  {
   "cell_type": "code",
   "execution_count": null,
   "metadata": {},
   "outputs": [],
   "source": [
    "# plot time series data for all product sales together and for each individual product separately for the different branches\n",
    "fig = plt.figure(figsize=(10, 10))\n",
    "\n",
    "j = 1\n",
    "for i in range(len(products)):\n",
    "    subplot = fig.add_subplot(3, 2, j)\n",
    "    plot_sales(products[i], [2012, 2022], f'{products[i]} Sales 2012-2021')\n",
    "    j += 1\n",
    "plt.tight_layout()\n",
    "plt.show()"
   ]
  },
  {
   "cell_type": "code",
   "execution_count": null,
   "metadata": {},
   "outputs": [],
   "source": [
    "# plot again for all sales products as a summary plot\n",
    "plt.figure(figsize=(6, 4))\n",
    "plot_sales(products[i], [2012, 2022], f'{products[0]} Sales 2012-2021')"
   ]
  },
  {
   "cell_type": "markdown",
   "metadata": {},
   "source": [
    "The time frame in 2021 with missing sales data represents the first Covid19 lockdown, which has been removed from the data already.\n",
    "\n",
    "As can be seen, sales decrease over time for the branch located at the Metro and at the Train Station. In particular, there is a sudden drop in the sales around year 2016 for the branch located at the Train Station, which should be investigated in more detail.\n",
    "\n",
    "The sales for the branch in the City Center is generally low compared to the other branches."
   ]
  },
  {
   "cell_type": "markdown",
   "metadata": {},
   "source": [
    "### inspect sales data for branch at Train Station\n",
    "The sales for the bakery branch located at the Train Station show a sudden drop around 2016. There, the sales data for this branch is investigated in more detail."
   ]
  },
  {
   "cell_type": "code",
   "execution_count": null,
   "metadata": {},
   "outputs": [],
   "source": [
    "# aggregate sales over month per year\n",
    "monthly_sales = sales.groupby(['Location', 'PredictionGroupName', 'year', 'month'])['SoldTurnver'].mean().reset_index()\n",
    "monthly_sales.head()"
   ]
  },
  {
   "cell_type": "code",
   "execution_count": null,
   "metadata": {},
   "outputs": [],
   "source": [
    "monthly_sales.info()"
   ]
  },
  {
   "cell_type": "code",
   "execution_count": null,
   "metadata": {},
   "outputs": [],
   "source": [
    "# plot monthly sales for branch at Train station separately for the different years\n",
    "fig = plt.figure(figsize=(8, 5))\n",
    "\n",
    "for i in range(1, len(products)):\n",
    "    subplot = fig.add_subplot(2, 3, i)\n",
    "    sns.lineplot(data=monthly_sales[(monthly_sales.Location=='Train_Station') & (monthly_sales.PredictionGroupName == products[i])], \n",
    "                x='month', y='SoldTurnver', hue='year', alpha=0.8,  palette='Greens', legend='full')\n",
    "    plt.ylabel('Turnover', fontsize=12)\n",
    "    plt.xlabel('Month', fontsize=12)\n",
    "    plt.xticks(ticks=np.arange(0, 13, 2))\n",
    "    plt.title(products[i])\n",
    "    if i==5:\n",
    "        plt.legend(bbox_to_anchor=(1.1, 1.1), loc='upper left', fontsize=9)\n",
    "    else:\n",
    "        plt.legend('', frameon=False)\n",
    "plt.tight_layout()\n",
    "plt.show()"
   ]
  },
  {
   "cell_type": "markdown",
   "metadata": {},
   "source": [
    "For the bakery branch located at the Train Station, there is a sudden drop in the sales in 2016 for all products except Mischbrote. Additionally, the effect of season on the sales seem to be less pronounced from 2016 onwards, especially for the following products: klassischer Kuchen, herzhafter Snack."
   ]
  },
  {
   "cell_type": "markdown",
   "metadata": {},
   "source": [
    "### Overall sales differences between branches and products"
   ]
  },
  {
   "cell_type": "code",
   "execution_count": null,
   "metadata": {},
   "outputs": [],
   "source": [
    "sales.head()"
   ]
  },
  {
   "cell_type": "code",
   "execution_count": null,
   "metadata": {},
   "outputs": [],
   "source": [
    "# define utility functions for plotting overall sales data by branch or by product\n",
    "def plot_sales_by_branch(product):\n",
    "    \"\"\"Plot sales data by bakery branches for defined product.\n",
    "\n",
    "    Args:\n",
    "        product (str): Product name\n",
    "    \"\"\"\n",
    "    sns.boxplot(data=sales[sales.PredictionGroupName==product], \n",
    "                        x='Location', y='SoldTurnver', saturation=0.5, \n",
    "                        palette={'Metro': 'red', 'Center': 'blue', 'Train_Station': 'green'})\n",
    "    plt.ylabel('Turnover', fontsize=12)\n",
    "    plt.xticks(rotation = 45)\n",
    "    plt.title(product)\n",
    "\n",
    "# define utility function for plotting overall sales data by product\n",
    "def plot_sales_by_product(location):\n",
    "    \"\"\"Plot sales data by bakery branches for defined product.\n",
    "\n",
    "    Args:\n",
    "        branch (str): Branch location\n",
    "    \"\"\"\n",
    "    sns.boxplot(data=sales[sales.Location==location], \n",
    "                        x='PredictionGroupName', y='SoldTurnver', saturation=0.5, \n",
    "                        color='red' if location=='Metro' else 'blue' if location=='Center' else 'green')\n",
    "    plt.ylabel('Turnover', fontsize=12)\n",
    "    plt.xlabel('')\n",
    "    plt.xticks(rotation = 45, ha='right')\n",
    "    plt.title(location)"
   ]
  },
  {
   "cell_type": "markdown",
   "metadata": {},
   "source": [
    "### plot overall product sales differences  between branches"
   ]
  },
  {
   "cell_type": "code",
   "execution_count": null,
   "metadata": {},
   "outputs": [],
   "source": [
    "fig = plt.figure(figsize=(10, 10))\n",
    "\n",
    "j = 1\n",
    "for i in range(1, len(products)):\n",
    "    subplot = fig.add_subplot(3, 2, j)\n",
    "    plot_sales_by_branch(products[i])\n",
    "    j += 1\n",
    "plt.tight_layout()\n",
    "plt.show()"
   ]
  },
  {
   "cell_type": "markdown",
   "metadata": {},
   "source": [
    "### plot sales profile for the different branches"
   ]
  },
  {
   "cell_type": "code",
   "execution_count": null,
   "metadata": {},
   "outputs": [],
   "source": [
    "fig = plt.figure(figsize=(8, 4))\n",
    "\n",
    "for i, x in enumerate(sales.Location.unique().tolist()):\n",
    "    subplot = fig.add_subplot(1, 3, i+1)\n",
    "    plot_sales_by_product(x)\n",
    "plt.tight_layout()\n",
    "plt.show()"
   ]
  },
  {
   "cell_type": "markdown",
   "metadata": {},
   "source": [
    "The branch at the Metro and at the Train Station have a similar sales profile. They make most turnover with handliches Gebäck and herzhafter Snack. By contrast, the branch in the City Center makes most turnover with handliches Gebäck and klassischer Kuchen, followed by Mischbrote."
   ]
  },
  {
   "cell_type": "markdown",
   "metadata": {},
   "source": [
    "### Sales differences between branches by month, day of the month and day of the week"
   ]
  },
  {
   "cell_type": "code",
   "execution_count": null,
   "metadata": {},
   "outputs": [],
   "source": [
    "# utility function to plot differences in product sales depending on a defined time period\n",
    "def plot_sales_by_period(product, period, ylim, step):\n",
    "    \"\"\"Plot product sales data as boxplot grouped by a specified time period for bakery branches.\n",
    "\n",
    "    Args:\n",
    "        product (str): Product name\n",
    "        period (str): Time period to group by ('day_of_week', 'month', 'year')\n",
    "        title (str): Plot title\n",
    "        ylim (int): Upper y-axis limit\n",
    "        step (int): Step size for y-axis ticks\n",
    "    \"\"\"\n",
    "\n",
    "    fig, (ax1, ax2, ax3) = plt.subplots(1,3, figsize=(10, 4))\n",
    "    plt.suptitle(f'{product} sales by {period}', fontsize=14)\n",
    "\n",
    "    ax1 = sns.boxplot(data=sales[(sales.PredictionGroupName==product) & (sales.Branch == 1)], \n",
    "                        x=period, y='SoldTurnver', color='red', saturation=0.5, ax=ax1)\n",
    "    ax1.set_ylabel('Turnover', fontsize=12)\n",
    "    ax1.set_yticks(ticks=np.arange(0,ylim+1, step))\n",
    "    ax1.set_xlabel(period)\n",
    "    ax1.set_title('Metro')\n",
    "\n",
    "    ax2 = sns.boxplot(data=sales[(sales.PredictionGroupName==product) & (sales.Branch == 2)], \n",
    "                        x=period, y='SoldTurnver', color='blue', saturation=0.5, ax=ax2)\n",
    "    ax2.set_ylabel('Turnover', fontsize=12)\n",
    "    ax2.set_yticks(ticks=np.arange(0,ylim+1, step))\n",
    "    ax2.set_xlabel(period)\n",
    "    ax2.set_title('Center')\n",
    "\n",
    "    ax3 = sns.boxplot(data=sales[(sales.PredictionGroupName==product) & (sales.Branch == 3)], \n",
    "                        x=period, y='SoldTurnver', color='green', saturation=0.5, ax=ax3)\n",
    "    ax3.set_ylabel('Turnover', fontsize=12)\n",
    "    ax3.set_yticks(ticks=np.arange(0,ylim+1, step))\n",
    "    ax3.set_xlabel(period)\n",
    "    ax3.set_title('Train_Station')\n",
    "    \n",
    "    plt.tight_layout()\n",
    "    plt.show()\n"
   ]
  },
  {
   "cell_type": "markdown",
   "metadata": {},
   "source": [
    "### plot by monthly period"
   ]
  },
  {
   "cell_type": "code",
   "execution_count": null,
   "metadata": {},
   "outputs": [],
   "source": [
    "plot_sales_by_period(products[1], 'month', 800, 200)"
   ]
  },
  {
   "cell_type": "code",
   "execution_count": null,
   "metadata": {},
   "outputs": [],
   "source": [
    "plot_sales_by_period(products[2], 'month', 800, 200)"
   ]
  },
  {
   "cell_type": "code",
   "execution_count": null,
   "metadata": {},
   "outputs": [],
   "source": [
    "plot_sales_by_period(products[3], 'month', 1000, 200)"
   ]
  },
  {
   "cell_type": "code",
   "execution_count": null,
   "metadata": {},
   "outputs": [],
   "source": [
    "plot_sales_by_period(products[4], 'month', 3000, 500)"
   ]
  },
  {
   "cell_type": "code",
   "execution_count": null,
   "metadata": {},
   "outputs": [],
   "source": [
    "plot_sales_by_period(products[5], 'month', 3500, 500)"
   ]
  },
  {
   "cell_type": "markdown",
   "metadata": {},
   "source": [
    "There are some seasonality effects present in the sales data across the different bakery branches. Sales for Mischbrote and Weizenbrötchen tend to be lower in summer. Sales for klassicher Kuchen and handliches Gebäck are higher in spring and autumn as compared to the other seasons. There no clear seasonal differences in the sales for herzhafter Snack."
   ]
  },
  {
   "cell_type": "markdown",
   "metadata": {},
   "source": [
    "### plot by day of the month"
   ]
  },
  {
   "cell_type": "code",
   "execution_count": null,
   "metadata": {},
   "outputs": [],
   "source": [
    "plot_sales_by_period(products[1], 'day_of_month', 800, 200)"
   ]
  },
  {
   "cell_type": "code",
   "execution_count": null,
   "metadata": {},
   "outputs": [],
   "source": [
    "plot_sales_by_period(products[2], 'day_of_month', 800, 200)"
   ]
  },
  {
   "cell_type": "code",
   "execution_count": null,
   "metadata": {},
   "outputs": [],
   "source": [
    "plot_sales_by_period(products[3], 'day_of_month', 1200, 300)"
   ]
  },
  {
   "cell_type": "code",
   "execution_count": null,
   "metadata": {},
   "outputs": [],
   "source": [
    "plot_sales_by_period(products[4], 'day_of_month', 2500, 500)"
   ]
  },
  {
   "cell_type": "code",
   "execution_count": null,
   "metadata": {},
   "outputs": [],
   "source": [
    "plot_sales_by_period(products[5], 'day_of_month', 3000, 500)"
   ]
  },
  {
   "cell_type": "markdown",
   "metadata": {},
   "source": [
    "The sales data to need seem to vary as a function of the day of the month. At least, no clear pattern is distinguishable."
   ]
  },
  {
   "cell_type": "markdown",
   "metadata": {},
   "source": [
    "### plot by day of the week"
   ]
  },
  {
   "cell_type": "code",
   "execution_count": null,
   "metadata": {},
   "outputs": [],
   "source": [
    "plot_sales_by_period(products[1], 'day_of_week', 800, 200)"
   ]
  },
  {
   "cell_type": "code",
   "execution_count": null,
   "metadata": {},
   "outputs": [],
   "source": [
    "plot_sales_by_period(products[2], 'day_of_week', 800, 200)"
   ]
  },
  {
   "cell_type": "code",
   "execution_count": null,
   "metadata": {},
   "outputs": [],
   "source": [
    "plot_sales_by_period(products[3], 'day_of_week', 1200, 300)"
   ]
  },
  {
   "cell_type": "code",
   "execution_count": null,
   "metadata": {},
   "outputs": [],
   "source": [
    "plot_sales_by_period(products[4], 'day_of_week', 3000, 500)"
   ]
  },
  {
   "cell_type": "code",
   "execution_count": null,
   "metadata": {},
   "outputs": [],
   "source": [
    "plot_sales_by_period(products[5], 'day_of_week', 3500, 500)"
   ]
  },
  {
   "cell_type": "markdown",
   "metadata": {},
   "source": [
    "There are clear differences between branches with respect to daily sales fluctuations across the week. In general, the sales  decrease towards the weekend for the branch located at the Metro and increase for the branch located in City Center. The sales for the branch located at the Train Station appear to be largely constant across the days of the week."
   ]
  }
 ],
 "metadata": {
  "kernelspec": {
   "display_name": "Python 3.9.8 ('.venv': venv)",
   "language": "python",
   "name": "python3"
  },
  "language_info": {
   "codemirror_mode": {
    "name": "ipython",
    "version": 3
   },
   "file_extension": ".py",
   "mimetype": "text/x-python",
   "name": "python",
   "nbconvert_exporter": "python",
   "pygments_lexer": "ipython3",
   "version": "3.9.8"
  },
  "orig_nbformat": 4,
  "vscode": {
   "interpreter": {
    "hash": "5088fa60f7d34fb5f2ba3ff772c32280f8a6f8f3ea142d94c52ee17185bba4b2"
   }
  }
 },
 "nbformat": 4,
 "nbformat_minor": 2
}
